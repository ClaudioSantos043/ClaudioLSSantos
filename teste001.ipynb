{
  "nbformat": 4,
  "nbformat_minor": 0,
  "metadata": {
    "colab": {
      "provenance": [],
      "authorship_tag": "ABX9TyMlteNKoPJJbNxROhoGD+uA",
      "include_colab_link": true
    },
    "kernelspec": {
      "name": "python3",
      "display_name": "Python 3"
    },
    "language_info": {
      "name": "python"
    }
  },
  "cells": [
    {
      "cell_type": "markdown",
      "metadata": {
        "id": "view-in-github",
        "colab_type": "text"
      },
      "source": [
        "<a href=\"https://colab.research.google.com/github/ClaudioSantos043/ClaudioLSSantos/blob/master/teste001.ipynb\" target=\"_parent\"><img src=\"https://colab.research.google.com/assets/colab-badge.svg\" alt=\"Open In Colab\"/></a>"
      ]
    },
    {
      "cell_type": "markdown",
      "source": [
        "**Atribuição de Variáveis**"
      ],
      "metadata": {
        "id": "TTXrkKQ_CWSF"
      }
    },
    {
      "cell_type": "code",
      "execution_count": null,
      "metadata": {
        "colab": {
          "base_uri": "https://localhost:8080/"
        },
        "id": "J0DJiVu-B9i1",
        "outputId": "42a75b33-8542-4f4b-cb9b-f6f8ec9569a6"
      },
      "outputs": [
        {
          "output_type": "stream",
          "name": "stdout",
          "text": [
            "Cláudio\n",
            "Santos\n",
            "Caixa d'água\n",
            "\"Vamos que Vamos\"\n"
          ]
        }
      ],
      "source": [
        "nome = 'Cláudio'\n",
        "sobrenome = 'Santos'\n",
        "produto = \"Caixa d'água\"\n",
        "citacao = '\"Vamos que Vamos\"'\n",
        "print(nome)\n",
        "print(sobrenome)\n",
        "print(produto)\n",
        "print(citacao)"
      ]
    },
    {
      "cell_type": "code",
      "source": [
        "idade = 55"
      ],
      "metadata": {
        "id": "x2ICA8fsDLLY"
      },
      "execution_count": null,
      "outputs": []
    },
    {
      "cell_type": "code",
      "source": [
        "type(idade)"
      ],
      "metadata": {
        "colab": {
          "base_uri": "https://localhost:8080/"
        },
        "id": "piLn9WBCDewc",
        "outputId": "db23a314-8b70-4e9a-fb90-f74e8e7fca50"
      },
      "execution_count": null,
      "outputs": [
        {
          "output_type": "execute_result",
          "data": {
            "text/plain": [
              "int"
            ]
          },
          "metadata": {},
          "execution_count": 3
        }
      ]
    },
    {
      "cell_type": "code",
      "source": [
        "' O nome dado foi {} E A IDADE FOI {}'. format(nome, idade)"
      ],
      "metadata": {
        "colab": {
          "base_uri": "https://localhost:8080/",
          "height": 36
        },
        "id": "i_8t4YcWrPTW",
        "outputId": "e51724dd-d752-4aae-81ba-c0d34e3652af"
      },
      "execution_count": null,
      "outputs": [
        {
          "output_type": "execute_result",
          "data": {
            "text/plain": [
              "' O nome dado foi Cláudio E A IDADE FOI 55'"
            ],
            "application/vnd.google.colaboratory.intrinsic+json": {
              "type": "string"
            }
          },
          "metadata": {},
          "execution_count": 4
        }
      ]
    }
  ]
}